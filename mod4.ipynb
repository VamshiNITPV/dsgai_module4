{
 "cells": [
  {
   "cell_type": "markdown",
   "id": "96ec0af4-712c-4206-8c1f-082989487ecb",
   "metadata": {},
   "source": [
    "# 1. Discuss string slicing and provide examples\n"
   ]
  },
  {
   "cell_type": "markdown",
   "id": "df7d87f0-85e2-488a-8917-4014f7395c01",
   "metadata": {},
   "source": [
    "String slicing is a technique used in programming to extract a portion (substring) of a string. It is commonly used in many programming languages, such as Python, JavaScript, and Ruby. This method involves specifying a start and end position within the string to create a new string containing the specified characters."
   ]
  },
  {
   "cell_type": "code",
   "execution_count": 1,
   "id": "58411df5-58db-43fe-a476-cefd5e0890e3",
   "metadata": {},
   "outputs": [
    {
     "name": "stdout",
     "output_type": "stream",
     "text": [
      "Hello\n",
      "World\n",
      "Hlo ol\n",
      "Hello\n",
      "World!\n",
      "!dlroW ,olleH\n"
     ]
    }
   ],
   "source": [
    "# basic slicing\n",
    "text = \"Hello, World!\"\n",
    "sliced_text = text[0:5]  # Extracts 'Hello'\n",
    "print(sliced_text)\n",
    "\n",
    "\n",
    "# Slicing with Negative Indices:\n",
    "text = \"Hello, World!\"\n",
    "sliced_text = text[-6:-1]  # Extracts 'World'\n",
    "print(sliced_text)\n",
    "\n",
    "\n",
    "\n",
    "# slicing with step:\n",
    "text = \"Hello, World!\"\n",
    "sliced_text = text[0:12:2]  # Extracts 'Hlo ol'\n",
    "print(sliced_text)\n",
    "\n",
    "\n",
    "\n",
    "# Omitting Start or End:\n",
    "text = \"Hello, World!\"\n",
    "sliced_text_start = text[:5]  # Extracts 'Hello'\n",
    "sliced_text_end = text[7:]    # Extracts 'World!'\n",
    "print(sliced_text_start)\n",
    "print(sliced_text_end)\n",
    "\n",
    "\n",
    "\n",
    "# Reveersing a String:\n",
    "text = \"Hello, World!\"\n",
    "reversed_text = text[::-1]  # Reverses the string\n",
    "print(reversed_text)\n",
    "\n",
    "\n",
    "\n"
   ]
  },
  {
   "cell_type": "markdown",
   "id": "9525d04f-a0fb-4464-9a0c-8a3e3037627e",
   "metadata": {},
   "source": [
    "# 2. Explain the key features of lists in Python."
   ]
  },
  {
   "cell_type": "code",
   "execution_count": 2,
   "id": "96cb7cf7-9192-430c-be4b-13f1f03a1d2e",
   "metadata": {},
   "outputs": [
    {
     "name": "stdout",
     "output_type": "stream",
     "text": [
      "['apple', 'banana', 'cherry']\n",
      "['apple', 'blueberry', 'cherry']\n",
      "['apple', 'banana', 'cherry', 'date']\n",
      "[1, 'hello', 3.14, [1, 2, 3]]\n",
      "apple\n",
      "cherry\n",
      "['banana', 'cherry']\n",
      "[0, 1, 4, 9, 16]\n"
     ]
    }
   ],
   "source": [
    "# ordered\n",
    "fruits = [\"apple\", \"banana\", \"cherry\"]\n",
    "print(fruits)  # Output: ['apple', 'banana', 'cherry']\n",
    "\n",
    "\n",
    "#mutable\n",
    "fruits = [\"apple\", \"banana\", \"cherry\"]\n",
    "fruits[1] = \"blueberry\"\n",
    "print(fruits)  # Output: ['apple', 'blueberry', 'cherry']\n",
    "\n",
    "\n",
    "\n",
    "#Dynamic Size:\n",
    "fruits = [\"apple\", \"banana\", \"cherry\"]\n",
    "fruits.append(\"date\")\n",
    "print(fruits)  # Output: ['apple', 'banana', 'cherry', 'date']\n",
    "\n",
    "\n",
    "\n",
    "#Heterogeneous Elements:\n",
    "mixed_list = [1, \"hello\", 3.14, [1, 2, 3]]\n",
    "print(mixed_list)  # Output: [1, 'hello', 3.14, [1, 2, 3]]\n",
    "\n",
    "\n",
    "\n",
    "# Indexed Access\n",
    "fruits = [\"apple\", \"banana\", \"cherry\"]\n",
    "print(fruits[0])  # Output: 'apple'\n",
    "print(fruits[-1])  # Output: 'cherry'\n",
    "\n",
    "\n",
    "\n",
    "#slicing\n",
    "fruits = [\"apple\", \"banana\", \"cherry\", \"date\"]\n",
    "print(fruits[1:3])  # Output: ['banana', 'cherry']\n",
    "\n",
    "\n",
    "\n",
    "#comprehensions\n",
    "squares = [x**2 for x in range(5)]\n",
    "print(squares)  # Output: [0, 1, 4, 9, 16]\n"
   ]
  },
  {
   "cell_type": "markdown",
   "id": "0a3a788b-5f3d-4c69-a73b-f5a945da4bbe",
   "metadata": {},
   "source": [
    "# 3. Describe how to access, modify, and delete elements in a list with examples."
   ]
  },
  {
   "cell_type": "code",
   "execution_count": 3,
   "id": "32bac59b-0ffa-47f9-af92-a1a2aae64f19",
   "metadata": {},
   "outputs": [
    {
     "name": "stdout",
     "output_type": "stream",
     "text": [
      "apple\n",
      "cherry\n"
     ]
    }
   ],
   "source": [
    "# access elements\n",
    "fruits = [\"apple\", \"banana\", \"cherry\"]\n",
    "print(fruits[0])  # Output: 'apple'\n",
    "print(fruits[-1])  # Output: 'cherry'\n"
   ]
  },
  {
   "cell_type": "code",
   "execution_count": 4,
   "id": "cb75b730-5aa0-4c97-a977-42dd948a4c39",
   "metadata": {},
   "outputs": [
    {
     "name": "stdout",
     "output_type": "stream",
     "text": [
      "['apple', 'blueberry', 'cherry']\n"
     ]
    }
   ],
   "source": [
    "#modify elements\n",
    "fruits = [\"apple\", \"banana\", \"cherry\"]\n",
    "fruits[1] = \"blueberry\"\n",
    "print(fruits)  # Output: ['apple', 'blueberry', 'cherry']\n"
   ]
  },
  {
   "cell_type": "code",
   "execution_count": 5,
   "id": "354afb15-5574-4549-b807-cb6b198265f7",
   "metadata": {},
   "outputs": [
    {
     "name": "stdout",
     "output_type": "stream",
     "text": [
      "['apple', 'cherry']\n",
      "['cherry']\n",
      "cherry\n",
      "[]\n"
     ]
    }
   ],
   "source": [
    "# delete elements\n",
    "fruits = [\"apple\", \"banana\", \"cherry\"]\n",
    "\n",
    "# Using del\n",
    "del fruits[1]\n",
    "print(fruits)  # Output: ['apple', 'cherry']\n",
    "\n",
    "# Using remove()\n",
    "fruits.remove(\"apple\")\n",
    "print(fruits)  # Output: ['cherry']\n",
    "\n",
    "# Using pop()\n",
    "popped_fruit = fruits.pop()\n",
    "print(popped_fruit)  # Output: 'cherry'\n",
    "print(fruits)  # Output: []\n"
   ]
  },
  {
   "cell_type": "markdown",
   "id": "b0af8cff-2f60-4ba3-a11e-ceab626f9d3b",
   "metadata": {},
   "source": [
    "# 4. Compare and contrast tuples and lists with examples."
   ]
  },
  {
   "cell_type": "markdown",
   "id": "776fb55d-e415-4584-bbef-aac207001664",
   "metadata": {},
   "source": [
    "Lists and Tuples in Python are two classes of Python Data Structures. The list structure is dynamic, and readily changed whereas the tuple structure is static and cannot be changed. This means that the tuple is generally faster than the list. Lists are denoted by square brackets and tuples are denoted with parenthesis."
   ]
  },
  {
   "cell_type": "code",
   "execution_count": 6,
   "id": "e52a69f9-bd76-400e-bcae-527572b825b4",
   "metadata": {},
   "outputs": [
    {
     "name": "stdout",
     "output_type": "stream",
     "text": [
      "Original list  [1, 2, 4, 4, 3, 3, 3, 6, 5]\n",
      "Example to show mutability  [1, 2, 4, 77, 3, 3, 3, 6, 5]\n"
     ]
    }
   ],
   "source": [
    "# Creating a List with\n",
    "# the use of Numbers\n",
    "# code to test that tuples are mutable\n",
    "List = [1, 2, 4, 4, 3, 3, 3, 6, 5]\n",
    "print(\"Original list \", List)\n",
    "\n",
    "List[3] = 77\n",
    "print(\"Example to show mutability \", List)\n"
   ]
  },
  {
   "cell_type": "code",
   "execution_count": 7,
   "id": "ac1eb7d9-749a-4e1b-ab5a-c98baa03c857",
   "metadata": {},
   "outputs": [
    {
     "ename": "TypeError",
     "evalue": "'tuple' object does not support item assignment",
     "output_type": "error",
     "traceback": [
      "\u001b[0;31m---------------------------------------------------------------------------\u001b[0m",
      "\u001b[0;31mTypeError\u001b[0m                                 Traceback (most recent call last)",
      "Cell \u001b[0;32mIn[7], line 4\u001b[0m\n\u001b[1;32m      1\u001b[0m \u001b[38;5;66;03m# code to test that tuples are immutable\u001b[39;00m\n\u001b[1;32m      3\u001b[0m tuple1 \u001b[38;5;241m=\u001b[39m (\u001b[38;5;241m0\u001b[39m, \u001b[38;5;241m1\u001b[39m, \u001b[38;5;241m2\u001b[39m, \u001b[38;5;241m3\u001b[39m)\n\u001b[0;32m----> 4\u001b[0m \u001b[43mtuple1\u001b[49m\u001b[43m[\u001b[49m\u001b[38;5;241;43m0\u001b[39;49m\u001b[43m]\u001b[49m \u001b[38;5;241m=\u001b[39m \u001b[38;5;241m4\u001b[39m\n\u001b[1;32m      5\u001b[0m \u001b[38;5;28mprint\u001b[39m(tuple1)\n",
      "\u001b[0;31mTypeError\u001b[0m: 'tuple' object does not support item assignment"
     ]
    }
   ],
   "source": [
    "# code to test that tuples are immutable\n",
    "\n",
    "tuple1 = (0, 1, 2, 3)\n",
    "tuple1[0] = 4\n",
    "print(tuple1)\n"
   ]
  },
  {
   "cell_type": "markdown",
   "id": "2f858c11-5af9-4588-9fac-ce93cfd86dcd",
   "metadata": {},
   "source": [
    "# 5. Describe the key features of sets and provide examples of their use"
   ]
  },
  {
   "cell_type": "markdown",
   "id": "7156d72f-8948-47c1-b908-3e680669c455",
   "metadata": {},
   "source": [
    "Type Casting with Python Set method"
   ]
  },
  {
   "cell_type": "code",
   "execution_count": 8,
   "id": "70fddb8d-df13-432f-ba23-cb489e55a8b7",
   "metadata": {},
   "outputs": [
    {
     "name": "stdout",
     "output_type": "stream",
     "text": [
      "{'b', 'a', 'c'}\n",
      "{'b', 'a', 'c', 'd'}\n"
     ]
    }
   ],
   "source": [
    "# typecasting list to set\n",
    "myset = set([\"a\", \"b\", \"c\"])\n",
    "print(myset)\n",
    "\n",
    "# Adding element to the set\n",
    "myset.add(\"d\")\n",
    "print(myset)\n"
   ]
  },
  {
   "cell_type": "markdown",
   "id": "c42a0223-94cb-44a0-be9b-7e08ff356510",
   "metadata": {},
   "source": [
    "Check unique and  Immutable with Python Set"
   ]
  },
  {
   "cell_type": "code",
   "execution_count": 9,
   "id": "c4ad45b9-eb0b-4c4d-a955-ab5f43ae4f3b",
   "metadata": {},
   "outputs": [
    {
     "name": "stdout",
     "output_type": "stream",
     "text": [
      "{'for', 'Geeks'}\n"
     ]
    },
    {
     "ename": "TypeError",
     "evalue": "'set' object does not support item assignment",
     "output_type": "error",
     "traceback": [
      "\u001b[0;31m---------------------------------------------------------------------------\u001b[0m",
      "\u001b[0;31mTypeError\u001b[0m                                 Traceback (most recent call last)",
      "Cell \u001b[0;32mIn[9], line 10\u001b[0m\n\u001b[1;32m      7\u001b[0m \u001b[38;5;28mprint\u001b[39m(myset)\n\u001b[1;32m      9\u001b[0m \u001b[38;5;66;03m# values of a set cannot be changed\u001b[39;00m\n\u001b[0;32m---> 10\u001b[0m \u001b[43mmyset\u001b[49m\u001b[43m[\u001b[49m\u001b[38;5;241;43m1\u001b[39;49m\u001b[43m]\u001b[49m \u001b[38;5;241m=\u001b[39m \u001b[38;5;124m\"\u001b[39m\u001b[38;5;124mHello\u001b[39m\u001b[38;5;124m\"\u001b[39m\n\u001b[1;32m     11\u001b[0m \u001b[38;5;28mprint\u001b[39m(myset)\n",
      "\u001b[0;31mTypeError\u001b[0m: 'set' object does not support item assignment"
     ]
    }
   ],
   "source": [
    "# Python program to demonstrate that\n",
    "# a set cannot have duplicate values \n",
    "# and we cannot change its items\n",
    "\n",
    "# a set cannot have duplicate values\n",
    "myset = {\"Geeks\", \"for\", \"Geeks\"}\n",
    "print(myset)\n",
    "\n",
    "# values of a set cannot be changed\n",
    "myset[1] = \"Hello\"\n",
    "print(myset)\n"
   ]
  },
  {
   "cell_type": "markdown",
   "id": "a7a3e099-fd7c-474d-8583-ebeeccf59259",
   "metadata": {},
   "source": [
    "Heterogeneous Element with Python Set"
   ]
  },
  {
   "cell_type": "code",
   "execution_count": 10,
   "id": "465b943f-7446-405d-9475-c9bde5ca5b1c",
   "metadata": {},
   "outputs": [
    {
     "name": "stdout",
     "output_type": "stream",
     "text": [
      "{True, 52.7, 'for', 10, 'Geeks'}\n"
     ]
    }
   ],
   "source": [
    "# Python example demonstrate that a set\n",
    "# can store heterogeneous elements\n",
    "myset = {\"Geeks\", \"for\", 10, 52.7, True}\n",
    "print(myset)\n"
   ]
  },
  {
   "cell_type": "markdown",
   "id": "8fa3c815-cca7-4c4c-b6cf-08fd1268dcc5",
   "metadata": {},
   "source": [
    "# 6. Discuss the use cases of tuples and sets in Python programming."
   ]
  },
  {
   "cell_type": "markdown",
   "id": "8928d092-3d94-4fab-8163-f6329b363ba1",
   "metadata": {},
   "source": [
    "Set is Mutable and Tuple is Immutable"
   ]
  },
  {
   "cell_type": "markdown",
   "id": "cc78e0c3-cddd-47ef-a9dc-f7848558eba6",
   "metadata": {},
   "source": [
    "Set is Unordered collection of items and Tuple is Ordered collection of items"
   ]
  },
  {
   "cell_type": "markdown",
   "id": "876ee09f-1c58-4c99-bf5a-2323a34f9a41",
   "metadata": {},
   "source": [
    "Items in set cannot be changed or replaced but you can remove and add new items.Items in tuple cannot be changed or replaced"
   ]
  },
  {
   "cell_type": "code",
   "execution_count": 11,
   "id": "2f1de732-0537-471c-a9f4-a4131b8d087d",
   "metadata": {},
   "outputs": [
    {
     "name": "stdout",
     "output_type": "stream",
     "text": [
      "Initial blank Set: \n",
      "set()\n",
      "\n",
      "Set with the use of an Object: \n",
      "{'G', 'F', 's', 'k', 'r', 'o', 'e'}\n",
      "\n",
      "Set with the use of List: \n",
      "{'For', 'Geeks'}\n"
     ]
    }
   ],
   "source": [
    "# Python3 program to demonstrate \n",
    "# Set in Python \n",
    "\n",
    "# Creating a Set \n",
    "set1 = set() \n",
    "print(\"Initial blank Set: \") \n",
    "print(set1) \n",
    "\n",
    "# Creating a Set with \n",
    "# the use of Constructor \n",
    "# (Using object to Store String) \n",
    "String = 'GeeksForGeeks'\n",
    "set1 = set(String) \n",
    "print(\"\\nSet with the use of an Object: \" ) \n",
    "print(set1) \n",
    "\n",
    "# Creating a Set with \n",
    "# the use of a List \n",
    "set1 = set([\"Geeks\", \"For\", \"Geeks\"]) \n",
    "print(\"\\nSet with the use of List: \") \n",
    "print(set1)\n"
   ]
  },
  {
   "cell_type": "code",
   "execution_count": 12,
   "id": "4f64bd13-1bae-47d0-9a45-21edf1389124",
   "metadata": {},
   "outputs": [
    {
     "name": "stdout",
     "output_type": "stream",
     "text": [
      "Initial empty Tuple: \n",
      "()\n",
      "\n",
      "Tuple using List: \n",
      "(1, 2, 4, 5, 6)\n",
      "\n",
      "Tuple with the use of function: \n",
      "('G', 'e', 'e', 'k', 's')\n"
     ]
    }
   ],
   "source": [
    "# Creating an empty Tuple \n",
    "Tuple1 = () \n",
    "print(\"Initial empty Tuple: \") \n",
    "print (Tuple1) \n",
    "\n",
    "# Creating a Tuple with \n",
    "# the use of list \n",
    "list1 = [1, 2, 4, 5, 6] \n",
    "print(\"\\nTuple using List: \") \n",
    "print(tuple(list1)) \n",
    "\n",
    "#Creating a Tuple \n",
    "#with the use of built-in function \n",
    "Tuple1 = tuple('Geeks') \n",
    "print(\"\\nTuple with the use of function: \") \n",
    "print(Tuple1)\n"
   ]
  },
  {
   "cell_type": "markdown",
   "id": "25ea507f-8396-441d-9770-705217ddd99c",
   "metadata": {},
   "source": [
    "# 7. Describe how to add, modify, and delete items in a dictionary with examples."
   ]
  },
  {
   "cell_type": "markdown",
   "id": "0a635164-a154-4525-a983-f6fa27355d28",
   "metadata": {},
   "source": [
    "A Python dictionary is a data structure that stores the value in key:value pairs.\n",
    "\n"
   ]
  },
  {
   "cell_type": "code",
   "execution_count": 17,
   "id": "61d359cc-fafe-4c02-a202-08a751d538cf",
   "metadata": {},
   "outputs": [
    {
     "name": "stdout",
     "output_type": "stream",
     "text": [
      "value1\n"
     ]
    }
   ],
   "source": [
    "# Creating a dictionary\n",
    "my_dict = {'key1': 'value1', 'key2': 'value2'}\n",
    "# Accessing values by keys\n",
    "print(my_dict['key1'])  # Output: value1\n",
    "# Modifying values\n",
    "my_dict['key2'] = 'new_value'\n",
    "# Adding new key-value pairs\n",
    "my_dict['key3'] = 'value3'\n",
    "# Removing a key-value pair\n",
    "del my_dict['key1']"
   ]
  },
  {
   "cell_type": "code",
   "execution_count": 13,
   "id": "0a9752a5-1aaf-4983-8cb6-84c6df682b94",
   "metadata": {},
   "outputs": [
    {
     "data": {
      "text/plain": [
       "{1: 'Python', 2: 'dictionary', 3: 'example'}"
      ]
     },
     "execution_count": 13,
     "metadata": {},
     "output_type": "execute_result"
    }
   ],
   "source": [
    "dict = {\n",
    "  1: 'Python', \n",
    "  2: 'dictionary', \n",
    "  3: 'example'\n",
    "}\n",
    "dict"
   ]
  },
  {
   "cell_type": "code",
   "execution_count": 14,
   "id": "7e30a62d-d574-465e-9363-09dd100176e2",
   "metadata": {},
   "outputs": [
    {
     "data": {
      "text/plain": [
       "{1: 'Python', 2: 'dictionary', 3: 'example', 4: 'Happy'}"
      ]
     },
     "execution_count": 14,
     "metadata": {},
     "output_type": "execute_result"
    }
   ],
   "source": [
    "#adding item to the dictionary\n",
    "dict[4]='Happy'\n",
    "dict"
   ]
  },
  {
   "cell_type": "code",
   "execution_count": 15,
   "id": "20b5540a-636f-45aa-970a-a56e3fc382d0",
   "metadata": {},
   "outputs": [
    {
     "data": {
      "text/plain": [
       "{1: 'Python', 2: 'dictionary', 3: 'example', 4: 'modified'}"
      ]
     },
     "execution_count": 15,
     "metadata": {},
     "output_type": "execute_result"
    }
   ],
   "source": [
    "#modify items\n",
    "dict[4]='modified'\n",
    "dict"
   ]
  },
  {
   "cell_type": "code",
   "execution_count": 18,
   "id": "fcb96ea2-ee87-4814-b98a-e79bc1400f3c",
   "metadata": {},
   "outputs": [
    {
     "ename": "KeyError",
     "evalue": "1",
     "output_type": "error",
     "traceback": [
      "\u001b[0;31m---------------------------------------------------------------------------\u001b[0m",
      "\u001b[0;31mKeyError\u001b[0m                                  Traceback (most recent call last)",
      "Cell \u001b[0;32mIn[18], line 2\u001b[0m\n\u001b[1;32m      1\u001b[0m \u001b[38;5;66;03m#delete items in dictionary\u001b[39;00m\n\u001b[0;32m----> 2\u001b[0m \u001b[38;5;28;01mdel\u001b[39;00m \u001b[38;5;28mdict\u001b[39m[\u001b[38;5;241m1\u001b[39m]\n\u001b[1;32m      3\u001b[0m \u001b[38;5;28mdict\u001b[39m\n",
      "\u001b[0;31mKeyError\u001b[0m: 1"
     ]
    }
   ],
   "source": [
    "#delete items in dictionary\n",
    "del dict[1]\n",
    "dict"
   ]
  },
  {
   "cell_type": "markdown",
   "id": "7b6cff0e-eab1-44e9-9a0c-6b4e26545f15",
   "metadata": {},
   "source": [
    "# 8. Discuss the importance of dictionary keys being immutable and provide examples"
   ]
  },
  {
   "cell_type": "markdown",
   "id": "c76f63be-4159-45ae-a09e-33ee6fa87bb9",
   "metadata": {},
   "source": [
    "## Importance of Immutable Dictionary Keys:"
   ]
  },
  {
   "cell_type": "markdown",
   "id": "5b6e11d2-887e-4607-91d4-57f2664509f8",
   "metadata": {},
   "source": [
    "### 1. Hashing and Efficiency:"
   ]
  },
  {
   "cell_type": "markdown",
   "id": "20fd1ebc-35e3-4b24-813e-2754aa56654b",
   "metadata": {},
   "source": [
    "Hash Tables: Python dictionaries use hash tables for rapid access to key-value pairs. Hashing requires that keys remain unchanged so that their hash values remain consistent."
   ]
  },
  {
   "cell_type": "markdown",
   "id": "a1103cbf-07bb-401e-a75a-cfc73f94abb3",
   "metadata": {},
   "source": [
    "Fast Lookups: Immutable keys allow Python to compute and locate values quickly based on their hash values. This ensures that dictionary operations like get and set are performed in constant average time."
   ]
  },
  {
   "cell_type": "markdown",
   "id": "75787719-8bab-4278-831c-28700657b11a",
   "metadata": {},
   "source": [
    "### 2. Consistency and Predictability:"
   ]
  },
  {
   "cell_type": "markdown",
   "id": "5d4bd40c-c002-4e06-a8cc-de3133792aa4",
   "metadata": {},
   "source": [
    "Stable Mapping: Once a key-value pair is added to a dictionary, the key's identity must remain constant. This prevents unexpected behavior when retrieving values associated with keys."
   ]
  },
  {
   "cell_type": "markdown",
   "id": "fecc9e67-53c0-4ce3-b450-df7aabf7870a",
   "metadata": {},
   "source": [
    "Prevents Errors: If keys were mutable, modifying a key could potentially alter its hash value or comparison behavior, leading to incorrect lookups or even key duplication."
   ]
  },
  {
   "cell_type": "markdown",
   "id": "25337520-3d62-4106-b8a8-86b489506e50",
   "metadata": {},
   "source": [
    "### 3. Examples of Immutable Keys:\n",
    "\n"
   ]
  },
  {
   "cell_type": "code",
   "execution_count": 21,
   "id": "8f60ab7a-6115-4b8a-9a13-89545db9cf28",
   "metadata": {},
   "outputs": [
    {
     "data": {
      "text/plain": [
       "{'name': 'Alice', 'age': 30}"
      ]
     },
     "execution_count": 21,
     "metadata": {},
     "output_type": "execute_result"
    }
   ],
   "source": [
    "my_dict = {\"name\": \"Alice\", \"age\": 30}\n",
    "my_dict"
   ]
  },
  {
   "cell_type": "code",
   "execution_count": 22,
   "id": "dfdef96a-5487-4d45-b5c6-62e95e787d25",
   "metadata": {},
   "outputs": [
    {
     "data": {
      "text/plain": [
       "{(0, 0): 'origin', (1, 1): 'point (1,1)'}"
      ]
     },
     "execution_count": 22,
     "metadata": {},
     "output_type": "execute_result"
    }
   ],
   "source": [
    "point_dict = {(0, 0): \"origin\", (1, 1): \"point (1,1)\"}\n",
    "point_dict"
   ]
  },
  {
   "cell_type": "markdown",
   "id": "d0f9d5a2-79fd-4f95-ac3d-723dda488a5c",
   "metadata": {},
   "source": [
    "### 4. Avoiding Mutable Keys:"
   ]
  },
  {
   "cell_type": "code",
   "execution_count": 23,
   "id": "2c88ae11-598d-4b35-a066-5ef4113edfeb",
   "metadata": {},
   "outputs": [
    {
     "ename": "TypeError",
     "evalue": "unhashable type: 'list'",
     "output_type": "error",
     "traceback": [
      "\u001b[0;31m---------------------------------------------------------------------------\u001b[0m",
      "\u001b[0;31mTypeError\u001b[0m                                 Traceback (most recent call last)",
      "Cell \u001b[0;32mIn[23], line 2\u001b[0m\n\u001b[1;32m      1\u001b[0m \u001b[38;5;66;03m# Attempting to use a list as a dictionary key raises TypeError\u001b[39;00m\n\u001b[0;32m----> 2\u001b[0m bad_dict \u001b[38;5;241m=\u001b[39m {[\u001b[38;5;241m1\u001b[39m, \u001b[38;5;241m2\u001b[39m]: \u001b[38;5;124m\"\u001b[39m\u001b[38;5;124mvalue\u001b[39m\u001b[38;5;124m\"\u001b[39m}\n",
      "\u001b[0;31mTypeError\u001b[0m: unhashable type: 'list'"
     ]
    }
   ],
   "source": [
    "# Attempting to use a list as a dictionary key raises TypeError\n",
    "bad_dict = {[1, 2]: \"value\"}\n"
   ]
  }
 ],
 "metadata": {
  "kernelspec": {
   "display_name": "Python 3 (ipykernel)",
   "language": "python",
   "name": "python3"
  },
  "language_info": {
   "codemirror_mode": {
    "name": "ipython",
    "version": 3
   },
   "file_extension": ".py",
   "mimetype": "text/x-python",
   "name": "python",
   "nbconvert_exporter": "python",
   "pygments_lexer": "ipython3",
   "version": "3.10.8"
  },
  "toc-autonumbering": true,
  "toc-showtags": false
 },
 "nbformat": 4,
 "nbformat_minor": 5
}
